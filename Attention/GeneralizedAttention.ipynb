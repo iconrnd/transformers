{
 "cells": [
  {
   "cell_type": "markdown",
   "id": "46dc0b99-5233-40bf-9375-600a955018dc",
   "metadata": {},
   "source": [
    "## Generalized matrix product Attension adapted to use TensorFlow from \n",
    "### https://machinelearningmastery.com/the-attention-mechanism-from-scratch/"
   ]
  },
  {
   "cell_type": "code",
   "execution_count": 1,
   "id": "66da0d90-0cc3-4d69-8208-ad9e0a157a79",
   "metadata": {},
   "outputs": [],
   "source": [
    "import warnings\n",
    "warnings.filterwarnings('ignore')"
   ]
  },
  {
   "cell_type": "code",
   "execution_count": null,
   "id": "0d787ba9-a538-4da3-8cae-07c62e835a17",
   "metadata": {},
   "outputs": [],
   "source": [
    "import tensorflow as tf"
   ]
  },
  {
   "cell_type": "code",
   "execution_count": null,
   "id": "882dd54c-3862-40e6-8b4e-e2cf1ab5ff6f",
   "metadata": {
    "scrolled": true
   },
   "outputs": [],
   "source": [
    "word_0 = tf.convert_to_tensor([1, 0, 1], dtype=tf.float32)[tf.newaxis, :]"
   ]
  },
  {
   "cell_type": "code",
   "execution_count": 4,
   "id": "671d88d2-5129-48e0-b224-d12d55ecfaff",
   "metadata": {},
   "outputs": [
    {
     "data": {
      "text/plain": [
       "<tf.Tensor: shape=(1, 3), dtype=float32, numpy=array([[1., 0., 1.]], dtype=float32)>"
      ]
     },
     "execution_count": 4,
     "metadata": {},
     "output_type": "execute_result"
    }
   ],
   "source": [
    "word_0"
   ]
  },
  {
   "cell_type": "code",
   "execution_count": 5,
   "id": "087d1e14-66a1-414a-9e49-7178c50aba05",
   "metadata": {},
   "outputs": [],
   "source": [
    "word_1 = tf.convert_to_tensor([0, 1, 0], dtype=tf.float32)[tf.newaxis, :]\n",
    "word_2 = tf.convert_to_tensor([1, 1, 0], dtype=tf.float32)[tf.newaxis, :]\n",
    "word_3 = tf.convert_to_tensor([0, 0, 1], dtype=tf.float32)[tf.newaxis, :]"
   ]
  },
  {
   "cell_type": "code",
   "execution_count": 6,
   "id": "aa2a7339-287a-446c-b15b-a8ad3fe70713",
   "metadata": {},
   "outputs": [],
   "source": [
    "words = tf.stack([word_0, word_1, word_2, word_3], axis=1)"
   ]
  },
  {
   "cell_type": "code",
   "execution_count": 7,
   "id": "f36270fe-42e8-4037-991c-af68edb25dcb",
   "metadata": {},
   "outputs": [
    {
     "data": {
      "text/plain": [
       "<tf.Tensor: shape=(1, 4, 3), dtype=float32, numpy=\n",
       "array([[[1., 0., 1.],\n",
       "        [0., 1., 0.],\n",
       "        [1., 1., 0.],\n",
       "        [0., 0., 1.]]], dtype=float32)>"
      ]
     },
     "execution_count": 7,
     "metadata": {},
     "output_type": "execute_result"
    }
   ],
   "source": [
    "words"
   ]
  },
  {
   "cell_type": "code",
   "execution_count": 8,
   "id": "7483a7d3-2e3c-4d2c-9a4e-fabcd8ea0752",
   "metadata": {},
   "outputs": [],
   "source": [
    "words = tf.concat([words, words], axis=0)"
   ]
  },
  {
   "cell_type": "code",
   "execution_count": 9,
   "id": "21fb3019-e747-4df1-8265-c59d75974af4",
   "metadata": {},
   "outputs": [
    {
     "data": {
      "text/plain": [
       "<tf.Tensor: shape=(2, 4, 3), dtype=float32, numpy=\n",
       "array([[[1., 0., 1.],\n",
       "        [0., 1., 0.],\n",
       "        [1., 1., 0.],\n",
       "        [0., 0., 1.]],\n",
       "\n",
       "       [[1., 0., 1.],\n",
       "        [0., 1., 0.],\n",
       "        [1., 1., 0.],\n",
       "        [0., 0., 1.]]], dtype=float32)>"
      ]
     },
     "execution_count": 9,
     "metadata": {},
     "output_type": "execute_result"
    }
   ],
   "source": [
    "words"
   ]
  },
  {
   "cell_type": "code",
   "execution_count": 10,
   "id": "67581ca1-9011-47fc-81ff-bf70d0507331",
   "metadata": {},
   "outputs": [],
   "source": [
    "tf.random.set_seed(42)"
   ]
  },
  {
   "cell_type": "code",
   "execution_count": 11,
   "id": "b71f6a89-5e86-426d-a152-4a0de2e6f6f9",
   "metadata": {},
   "outputs": [],
   "source": [
    "W_Q = tf.random.normal((3, 3))\n",
    "W_K = tf.random.normal((3, 3))\n",
    "W_V = tf.random.normal((3, 3))"
   ]
  },
  {
   "cell_type": "code",
   "execution_count": 12,
   "id": "9289a3f3-e39c-4568-a32f-577939b09356",
   "metadata": {},
   "outputs": [
    {
     "data": {
      "text/plain": [
       "<tf.Tensor: shape=(3, 3), dtype=float32, numpy=\n",
       "array([[ 0.3274685, -0.8426258,  0.3194337],\n",
       "       [-1.4075519, -2.3880599, -1.0392479],\n",
       "       [-0.5573232,  0.539707 ,  1.6994323]], dtype=float32)>"
      ]
     },
     "execution_count": 12,
     "metadata": {},
     "output_type": "execute_result"
    }
   ],
   "source": [
    "W_Q"
   ]
  },
  {
   "cell_type": "code",
   "execution_count": 13,
   "id": "cf4bf1b9-9e68-4bc3-ac94-21c8a5fdbef1",
   "metadata": {},
   "outputs": [
    {
     "data": {
      "text/plain": [
       "<tf.Tensor: shape=(2, 4, 3), dtype=float32, numpy=\n",
       "array([[[-0.2298547, -0.3029188,  2.018866 ],\n",
       "        [-1.4075519, -2.3880599, -1.0392479],\n",
       "        [-1.0800834, -3.2306857, -0.7198142],\n",
       "        [-0.5573232,  0.539707 ,  1.6994323]],\n",
       "\n",
       "       [[-0.2298547, -0.3029188,  2.018866 ],\n",
       "        [-1.4075519, -2.3880599, -1.0392479],\n",
       "        [-1.0800834, -3.2306857, -0.7198142],\n",
       "        [-0.5573232,  0.539707 ,  1.6994323]]], dtype=float32)>"
      ]
     },
     "execution_count": 13,
     "metadata": {},
     "output_type": "execute_result"
    }
   ],
   "source": [
    "words @ W_Q"
   ]
  },
  {
   "cell_type": "code",
   "execution_count": 14,
   "id": "ad607443-4bea-4f95-8155-f00bd3014e8b",
   "metadata": {},
   "outputs": [
    {
     "data": {
      "text/plain": [
       "<tf.Tensor: shape=(3,), dtype=float32, numpy=array([-0.2298547, -0.3029188,  2.018866 ], dtype=float32)>"
      ]
     },
     "execution_count": 14,
     "metadata": {},
     "output_type": "execute_result"
    }
   ],
   "source": [
    "tf.tensordot(words[0][0], W_Q, 1)"
   ]
  },
  {
   "cell_type": "code",
   "execution_count": 15,
   "id": "c6e5b023-50fa-47e8-b72c-fd9727dc7f96",
   "metadata": {},
   "outputs": [
    {
     "data": {
      "text/plain": [
       "<tf.Tensor: shape=(3,), dtype=float32, numpy=array([-1.4075519, -2.3880599, -1.0392479], dtype=float32)>"
      ]
     },
     "execution_count": 15,
     "metadata": {},
     "output_type": "execute_result"
    }
   ],
   "source": [
    "tf.tensordot(words[0][1], W_Q, 1)"
   ]
  },
  {
   "cell_type": "code",
   "execution_count": 16,
   "id": "c3d41b4a-76c2-460b-a20f-56a2cb7a9572",
   "metadata": {},
   "outputs": [],
   "source": [
    "Q = words @ W_Q\n",
    "K = words @ W_K\n",
    "V = words @ W_V"
   ]
  },
  {
   "cell_type": "code",
   "execution_count": 17,
   "id": "1185a36f-e393-4504-b7d2-bc67d241e519",
   "metadata": {},
   "outputs": [
    {
     "data": {
      "text/plain": [
       "TensorShape([2, 4, 3])"
      ]
     },
     "execution_count": 17,
     "metadata": {},
     "output_type": "execute_result"
    }
   ],
   "source": [
    "K.shape"
   ]
  },
  {
   "cell_type": "code",
   "execution_count": 18,
   "id": "90fd794c-b417-4d8d-bed4-4bdbdbf886bb",
   "metadata": {},
   "outputs": [],
   "source": [
    "scores = Q @ tf.transpose(K, perm=(0, 2, 1))"
   ]
  },
  {
   "cell_type": "code",
   "execution_count": 19,
   "id": "515fbcbf-d0ad-4189-b4f2-a4e520adf8f3",
   "metadata": {},
   "outputs": [
    {
     "data": {
      "text/plain": [
       "<tf.Tensor: shape=(2, 4, 4), dtype=float32, numpy=\n",
       "array([[[ 0.22580178,  1.3982916 ,  2.403096  , -0.7790025 ],\n",
       "        [ 2.4536927 ,  0.5462186 ,  2.0905945 ,  0.909317  ],\n",
       "        [ 3.0849564 ,  1.1585747 ,  3.5767365 ,  0.666795  ],\n",
       "        [-0.40546206,  0.7859355 ,  0.91695386, -0.5364804 ]],\n",
       "\n",
       "       [[ 0.22580178,  1.3982916 ,  2.403096  , -0.7790025 ],\n",
       "        [ 2.4536927 ,  0.5462186 ,  2.0905945 ,  0.909317  ],\n",
       "        [ 3.0849564 ,  1.1585747 ,  3.5767365 ,  0.666795  ],\n",
       "        [-0.40546206,  0.7859355 ,  0.91695386, -0.5364804 ]]],\n",
       "      dtype=float32)>"
      ]
     },
     "execution_count": 19,
     "metadata": {},
     "output_type": "execute_result"
    }
   ],
   "source": [
    "scores"
   ]
  },
  {
   "cell_type": "code",
   "execution_count": 20,
   "id": "deee30e1-fd3d-4d57-93d9-8b75ca4ff88d",
   "metadata": {},
   "outputs": [
    {
     "data": {
      "text/plain": [
       "<tf.Tensor: shape=(3,), dtype=float32, numpy=array([-0.2298547, -0.3029188,  2.018866 ], dtype=float32)>"
      ]
     },
     "execution_count": 20,
     "metadata": {},
     "output_type": "execute_result"
    }
   ],
   "source": [
    "Q[0][0]"
   ]
  },
  {
   "cell_type": "code",
   "execution_count": 21,
   "id": "ad92e324-e9a0-4994-b345-5e5937d7be3a",
   "metadata": {},
   "outputs": [
    {
     "data": {
      "text/plain": [
       "<tf.Tensor: shape=(4, 3), dtype=float32, numpy=\n",
       "array([[-0.24659589, -0.8622878 , -0.04561105],\n",
       "       [-0.00519627, -0.49453196,  0.6178192 ],\n",
       "       [ 0.07902831, -1.3554357 ,  0.99594223],\n",
       "       [-0.33082047, -0.00138408, -0.4237341 ]], dtype=float32)>"
      ]
     },
     "execution_count": 21,
     "metadata": {},
     "output_type": "execute_result"
    }
   ],
   "source": [
    "K[0]"
   ]
  },
  {
   "cell_type": "code",
   "execution_count": 22,
   "id": "316c5cb4-77a2-445d-b9f2-7b94e43e80fb",
   "metadata": {},
   "outputs": [
    {
     "data": {
      "text/plain": [
       "<tf.Tensor: shape=(2, 3, 4), dtype=float32, numpy=\n",
       "array([[[-0.24659589, -0.00519627,  0.07902831, -0.33082047],\n",
       "        [-0.8622878 , -0.49453196, -1.3554357 , -0.00138408],\n",
       "        [-0.04561105,  0.6178192 ,  0.99594223, -0.4237341 ]],\n",
       "\n",
       "       [[-0.24659589, -0.00519627,  0.07902831, -0.33082047],\n",
       "        [-0.8622878 , -0.49453196, -1.3554357 , -0.00138408],\n",
       "        [-0.04561105,  0.6178192 ,  0.99594223, -0.4237341 ]]],\n",
       "      dtype=float32)>"
      ]
     },
     "execution_count": 22,
     "metadata": {},
     "output_type": "execute_result"
    }
   ],
   "source": [
    "tf.transpose(K, perm=(0, 2, 1))"
   ]
  },
  {
   "cell_type": "code",
   "execution_count": 23,
   "id": "b353742d-adfb-40a4-a3f8-f5d3fee9dfa4",
   "metadata": {},
   "outputs": [
    {
     "data": {
      "text/plain": [
       "<tf.Tensor: shape=(4,), dtype=float32, numpy=array([ 0.22580181,  1.3982916 ,  2.403096  , -0.7790025 ], dtype=float32)>"
      ]
     },
     "execution_count": 23,
     "metadata": {},
     "output_type": "execute_result"
    }
   ],
   "source": [
    "tf.tensordot(Q[0][0], tf.transpose(K, perm=(0, 2, 1))[0], 1)"
   ]
  },
  {
   "cell_type": "code",
   "execution_count": 24,
   "id": "870ab158-6aec-4112-afef-5d066f3b3677",
   "metadata": {},
   "outputs": [],
   "source": [
    "weights = tf.nn.softmax(scores, axis=1)"
   ]
  },
  {
   "cell_type": "code",
   "execution_count": 25,
   "id": "447ec4de-513e-4acf-a25d-a735901b761d",
   "metadata": {},
   "outputs": [
    {
     "data": {
      "text/plain": [
       "<tf.Tensor: shape=(2, 4, 4), dtype=float32, numpy=\n",
       "array([[[0.035387  , 0.36291677, 0.19261877, 0.08382176],\n",
       "        [0.32840103, 0.15479483, 0.1409227 , 0.45350763],\n",
       "        [0.61738896, 0.28556126, 0.6228797 , 0.35584316],\n",
       "        [0.01882302, 0.19672711, 0.0435788 , 0.10682744]],\n",
       "\n",
       "       [[0.035387  , 0.36291677, 0.19261877, 0.08382176],\n",
       "        [0.32840103, 0.15479483, 0.1409227 , 0.45350763],\n",
       "        [0.61738896, 0.28556126, 0.6228797 , 0.35584316],\n",
       "        [0.01882302, 0.19672711, 0.0435788 , 0.10682744]]], dtype=float32)>"
      ]
     },
     "execution_count": 25,
     "metadata": {},
     "output_type": "execute_result"
    }
   ],
   "source": [
    "weights"
   ]
  },
  {
   "cell_type": "code",
   "execution_count": 26,
   "id": "e28d440f-ab9e-418a-b29f-130b113e3b37",
   "metadata": {},
   "outputs": [
    {
     "data": {
      "text/plain": [
       "<tf.Tensor: shape=(2, 4), dtype=float32, numpy=\n",
       "array([[1.        , 0.99999994, 0.99999994, 0.99999994],\n",
       "       [1.        , 0.99999994, 0.99999994, 0.99999994]], dtype=float32)>"
      ]
     },
     "execution_count": 26,
     "metadata": {},
     "output_type": "execute_result"
    }
   ],
   "source": [
    "tf.reduce_sum(weights, axis=1)"
   ]
  },
  {
   "cell_type": "code",
   "execution_count": 27,
   "id": "be74f363-c0a1-4930-ac72-1fbb2cdcf787",
   "metadata": {},
   "outputs": [],
   "source": [
    "attention = weights @ V"
   ]
  },
  {
   "cell_type": "code",
   "execution_count": 28,
   "id": "8767959d-bae8-4135-a46c-1c61cd5d6a3a",
   "metadata": {},
   "outputs": [
    {
     "data": {
      "text/plain": [
       "<tf.Tensor: shape=(2, 4, 3), dtype=float32, numpy=\n",
       "array([[[-0.9646175 ,  0.5957003 ,  0.11186798],\n",
       "        [-0.4880892 ,  1.7590883 ,  1.0904744 ],\n",
       "        [-1.8241206 ,  2.273948  ,  2.4636662 ],\n",
       "        [-0.37432897,  0.44493032, -0.01641299]],\n",
       "\n",
       "       [[-0.9646175 ,  0.5957003 ,  0.11186798],\n",
       "        [-0.4880892 ,  1.7590883 ,  1.0904744 ],\n",
       "        [-1.8241206 ,  2.273948  ,  2.4636662 ],\n",
       "        [-0.37432897,  0.44493032, -0.01641299]]], dtype=float32)>"
      ]
     },
     "execution_count": 28,
     "metadata": {},
     "output_type": "execute_result"
    }
   ],
   "source": [
    "attention"
   ]
  },
  {
   "cell_type": "code",
   "execution_count": 29,
   "id": "be353e73-8b1d-479e-b9a4-69903d445f1b",
   "metadata": {},
   "outputs": [
    {
     "data": {
      "text/plain": [
       "TensorShape([2, 4, 3])"
      ]
     },
     "execution_count": 29,
     "metadata": {},
     "output_type": "execute_result"
    }
   ],
   "source": [
    "attention.shape"
   ]
  },
  {
   "cell_type": "code",
   "execution_count": null,
   "id": "47efebf1-6fb9-4ee4-8e7f-65037fcac862",
   "metadata": {},
   "outputs": [],
   "source": []
  }
 ],
 "metadata": {
  "kernelspec": {
   "display_name": "tf39",
   "language": "python",
   "name": "tf39"
  },
  "language_info": {
   "codemirror_mode": {
    "name": "ipython",
    "version": 3
   },
   "file_extension": ".py",
   "mimetype": "text/x-python",
   "name": "python",
   "nbconvert_exporter": "python",
   "pygments_lexer": "ipython3",
   "version": "3.9.18"
  }
 },
 "nbformat": 4,
 "nbformat_minor": 5
}
